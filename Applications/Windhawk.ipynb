{
 "cells": [
  {
   "cell_type": "code",
   "execution_count": 3,
   "metadata": {},
   "outputs": [],
   "source": [
    "import requests\n",
    "import json"
   ]
  },
  {
   "cell_type": "code",
   "execution_count": 10,
   "metadata": {},
   "outputs": [],
   "source": [
    "catalog = json.loads(requests.get('https://mods.windhawk.net/catalog.json').content)"
   ]
  },
  {
   "cell_type": "code",
   "execution_count": null,
   "metadata": {},
   "outputs": [],
   "source": [
    "print('Name | Description')\n",
    "print('--- | ---')\n",
    "mods = catalog['mods'].items()\n",
    "mods = sorted(mods, key=lambda v: v[1]['details']['defaultSorting'], reverse=True)\n",
    "for id, mod in mods:\n",
    "    metadata = mod['metadata']\n",
    "    name = metadata['name']\n",
    "    description = metadata['description']\n",
    "    url = f'https://windhawk.net/mods/{id}/'\n",
    "    print(f'[{name}]({url}) | {description}')"
   ]
  }
 ],
 "metadata": {
  "kernelspec": {
   "display_name": "base",
   "language": "python",
   "name": "python3"
  },
  "language_info": {
   "codemirror_mode": {
    "name": "ipython",
    "version": 3
   },
   "file_extension": ".py",
   "mimetype": "text/x-python",
   "name": "python",
   "nbconvert_exporter": "python",
   "pygments_lexer": "ipython3",
   "version": "3.9.1"
  }
 },
 "nbformat": 4,
 "nbformat_minor": 2
}
